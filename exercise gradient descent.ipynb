{
 "cells": [
  {
   "cell_type": "code",
   "execution_count": 3,
   "id": "16af0d91-faac-4557-8386-ed87bdb22574",
   "metadata": {},
   "outputs": [],
   "source": [
    "import numpy as np\n"
   ]
  },
  {
   "cell_type": "code",
   "execution_count": 5,
   "id": "69309f77-501f-4f77-9b51-cf564f55f52e",
   "metadata": {},
   "outputs": [],
   "source": [
    "def gradient_descent(x,y):\n",
    "    m=b=0\n",
    "    iterations=1000\n",
    "    cost=0\n",
    "    learning_rate=0.01\n",
    "    for i in range(iterations):\n",
    "        y_p=m*x+b\n",
    "        cost=(1/n)*sum([value**2 for value in(y-y_p)])\n",
    "        md = -(2/n)*sum(x*(y-y_predicted))\n",
    "        bd = -(2/n)*sum(y-y_predicted)\n",
    "        m=m-learning_rate*md\n",
    "        b=b-learning_rate*bd\n",
    "        if math.isclose(cost, cost_previous, rel_tol=1e-20):\n",
    "            break\n",
    "        cost_new=cost\n",
    "        print(\"m {}, b {}, cost {}, iteration {}\".format(m_curr,b_curr,cost, i))\n",
    "\n",
    "    return m_curr, b_curr\n",
    "x=np.array([92,58,88,70,80,49.65,35,66,67])\n",
    "y=np.array([98,68,81,80,83,52,66,30,68,73])\n",
    "    \n"
   ]
  }
 ],
 "metadata": {
  "kernelspec": {
   "display_name": "Python 3 (ipykernel)",
   "language": "python",
   "name": "python3"
  },
  "language_info": {
   "codemirror_mode": {
    "name": "ipython",
    "version": 3
   },
   "file_extension": ".py",
   "mimetype": "text/x-python",
   "name": "python",
   "nbconvert_exporter": "python",
   "pygments_lexer": "ipython3",
   "version": "3.12.4"
  }
 },
 "nbformat": 4,
 "nbformat_minor": 5
}
